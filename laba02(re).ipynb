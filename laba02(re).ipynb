{
 "cells": [
  {
   "cell_type": "markdown",
   "metadata": {},
   "source": [
    "# Задание 1"
   ]
  },
  {
   "cell_type": "code",
   "execution_count": 4,
   "metadata": {},
   "outputs": [],
   "source": [
    "ilist = [78, 68, 484, 3, 254, 90, 143, 78, 43, 42, 3053, 473, 5, 8593, 16, 3, 1454, 37, 96, 8547]"
   ]
  },
  {
   "cell_type": "code",
   "execution_count": 5,
   "metadata": {},
   "outputs": [
    {
     "name": "stdout",
     "output_type": "stream",
     "text": [
      "Сумма: 23549\n"
     ]
    }
   ],
   "source": [
    "summ = sum([x for x in ilist if x>10])\n",
    "print('Сумма: {}'.format(summ))"
   ]
  },
  {
   "cell_type": "markdown",
   "metadata": {},
   "source": [
    "# Задание 2"
   ]
  },
  {
   "cell_type": "code",
   "execution_count": 12,
   "metadata": {},
   "outputs": [],
   "source": [
    "slist = ['smash','','even','reactor',None,'injured','motor','candy','strain','emergency','safely','awake','sail','fasten']"
   ]
  },
  {
   "cell_type": "code",
   "execution_count": 15,
   "metadata": {},
   "outputs": [
    {
     "name": "stdout",
     "output_type": "stream",
     "text": [
      "['reactor', 'motor']\n"
     ]
    }
   ],
   "source": [
    "print([x for x in slist if str(x).endswith('r')])"
   ]
  },
  {
   "cell_type": "markdown",
   "metadata": {},
   "source": [
    "# Задание 3"
   ]
  },
  {
   "cell_type": "code",
   "execution_count": 115,
   "metadata": {},
   "outputs": [
    {
     "data": {
      "text/plain": [
       "'338442'"
      ]
     },
     "execution_count": 115,
     "metadata": {},
     "output_type": "execute_result"
    }
   ],
   "source": [
    "[r.replace(list(r)[random.randint(0, 5)], '3') if r.find('3') == -1 else r for r in [''.join(random.choices(string.digits, k=6))]][0]"
   ]
  },
  {
   "cell_type": "markdown",
   "metadata": {},
   "source": [
    "# Задание 4"
   ]
  },
  {
   "cell_type": "code",
   "execution_count": 142,
   "metadata": {},
   "outputs": [
    {
     "name": "stdout",
     "output_type": "stream",
     "text": [
      "Символов :103, слов: 16\n"
     ]
    }
   ],
   "source": [
    "import re\n",
    "aline = 'Пусть дана стр-ока произ_вольной длины.Выведите информацию о том,сколько в ней символов и сколько слов.'\n",
    "chars = len(aline)\n",
    "words = len(re.findall('[А-яA-zЁё_\\-]+', aline))\n",
    "print('Символов :{0}, слов: {1}'.format(chars, words))"
   ]
  },
  {
   "cell_type": "markdown",
   "metadata": {},
   "source": [
    "# Задание 5"
   ]
  },
  {
   "cell_type": "code",
   "execution_count": 112,
   "metadata": {},
   "outputs": [],
   "source": [
    "import numpy as np"
   ]
  },
  {
   "cell_type": "code",
   "execution_count": 113,
   "metadata": {},
   "outputs": [],
   "source": [
    "M = [[ 1, 3, 0],\n",
    "     [ 5, 2, 4],\n",
    "     [-1, 6, 2]]"
   ]
  },
  {
   "cell_type": "code",
   "execution_count": 116,
   "metadata": {},
   "outputs": [
    {
     "name": "stdout",
     "output_type": "stream",
     "text": [
      "[ 1  3  0  5  2  4 -1  6  2]\n"
     ]
    },
    {
     "data": {
      "text/plain": [
       "22"
      ]
     },
     "execution_count": 116,
     "metadata": {},
     "output_type": "execute_result"
    }
   ],
   "source": [
    "# вариант 1\n",
    "a = np.array(M).flatten()\n",
    "print(a)\n",
    "sum(a)"
   ]
  },
  {
   "cell_type": "code",
   "execution_count": 117,
   "metadata": {},
   "outputs": [
    {
     "name": "stdout",
     "output_type": "stream",
     "text": [
      "[1, 3, 0, 5, 2, 4, -1, 6, 2]\n"
     ]
    },
    {
     "data": {
      "text/plain": [
       "22"
      ]
     },
     "execution_count": 117,
     "metadata": {},
     "output_type": "execute_result"
    }
   ],
   "source": [
    "# вариант 2\n",
    "a = []\n",
    "for i in range(len(M)):\n",
    "    for j in range(len(M)):\n",
    "        a.append(M[i][j])\n",
    "print(a)\n",
    "sum(a)"
   ]
  },
  {
   "cell_type": "markdown",
   "metadata": {},
   "source": [
    "# Задание 6"
   ]
  },
  {
   "cell_type": "code",
   "execution_count": 110,
   "metadata": {},
   "outputs": [],
   "source": [
    "MN = [[ 1, 3, 0, 5],\n",
    "      [ 5, 2, 4, 1],\n",
    "      [-1, 6, 2, 0]]"
   ]
  },
  {
   "cell_type": "code",
   "execution_count": 111,
   "metadata": {},
   "outputs": [
    {
     "name": "stdout",
     "output_type": "stream",
     "text": [
      "Колонка с максимальной суммой: 1\n"
     ]
    }
   ],
   "source": [
    "maxj = 0\n",
    "maxs = 0\n",
    "for j in range(len(M[0])):\n",
    "    s = 0\n",
    "    for i in range(len(M)):\n",
    "        s += M[i][j]\n",
    "    if s > maxs:\n",
    "        maxj = j\n",
    "        maxs = s\n",
    "print('Колонка с максимальной суммой: {}'.format(maxj))\n"
   ]
  },
  {
   "cell_type": "markdown",
   "metadata": {},
   "source": [
    "# Задание 7"
   ]
  },
  {
   "cell_type": "code",
   "execution_count": 145,
   "metadata": {},
   "outputs": [],
   "source": [
    "students = [\n",
    "[1, 'Иванов', 25, '1'],\n",
    "[2, 'Петров', 27, '2'],\n",
    "[3, 'Сидоров', 23, '2'],\n",
    "[4, 'Песков', 21, '1']\n",
    "]\n"
   ]
  },
  {
   "cell_type": "code",
   "execution_count": 146,
   "metadata": {},
   "outputs": [
    {
     "data": {
      "text/plain": [
       "{1: ['Иванов', 25, '1'],\n",
       " 2: ['Петров', 27, '2'],\n",
       " 3: ['Сидоров', 23, '2'],\n",
       " 4: ['Песков', 21, '1']}"
      ]
     },
     "execution_count": 146,
     "metadata": {},
     "output_type": "execute_result"
    }
   ],
   "source": [
    "studentsDict = {}\n",
    "for i in range(len(students)):\n",
    "    studentsDict[students[i][0]] = students[i][1:]\n",
    "studentsDict"
   ]
  },
  {
   "cell_type": "code",
   "execution_count": 147,
   "metadata": {},
   "outputs": [
    {
     "name": "stdout",
     "output_type": "stream",
     "text": [
      "1\n",
      "2\n",
      "3\n",
      "4\n"
     ]
    }
   ],
   "source": [
    "for s in studentsDict:\n",
    "    print(s)"
   ]
  },
  {
   "cell_type": "code",
   "execution_count": 150,
   "metadata": {},
   "outputs": [],
   "source": [
    "def updateStudent(aStudentsDict, fio, age=None, group=None):\n",
    "    foundKey = None\n",
    "    for key in aStudentsDict:\n",
    "        if(fio.lower() == aStudentsDict[key][0].lower()):\n",
    "            foundKey = key\n",
    "    if(foundKey != None):\n",
    "        if age != None:\n",
    "            aStudentsDict[foundKey][1] = age\n",
    "        if group != None:\n",
    "            aStudentsDict[foundKey][2] = str(group)\n",
    "        return aStudentsDict[foundKey]\n",
    "    return None"
   ]
  },
  {
   "cell_type": "code",
   "execution_count": 152,
   "metadata": {},
   "outputs": [
    {
     "data": {
      "text/plain": [
       "['Петров', 27, '2']"
      ]
     },
     "execution_count": 152,
     "metadata": {},
     "output_type": "execute_result"
    }
   ],
   "source": [
    "updateStudent(studentsDict, 'петров') # ничего не изменяется"
   ]
  },
  {
   "cell_type": "code",
   "execution_count": 153,
   "metadata": {},
   "outputs": [
    {
     "data": {
      "text/plain": [
       "['Сидоров', 32, '2']"
      ]
     },
     "execution_count": 153,
     "metadata": {},
     "output_type": "execute_result"
    }
   ],
   "source": [
    "updateStudent(studentsDict, 'сидоров', 32) # изменяется возраст"
   ]
  },
  {
   "cell_type": "code",
   "execution_count": 154,
   "metadata": {},
   "outputs": [
    {
     "data": {
      "text/plain": [
       "['Иванов', 25, '24']"
      ]
     },
     "execution_count": 154,
     "metadata": {},
     "output_type": "execute_result"
    }
   ],
   "source": [
    "updateStudent(studentsDict, 'иванов', None, 24) # изменяется группа"
   ]
  },
  {
   "cell_type": "code",
   "execution_count": 155,
   "metadata": {},
   "outputs": [
    {
     "data": {
      "text/plain": [
       "['Петров', 45, '7']"
      ]
     },
     "execution_count": 155,
     "metadata": {},
     "output_type": "execute_result"
    }
   ],
   "source": [
    "updateStudent(studentsDict, 'петров', 45, 7) # изменяется возраст и группа"
   ]
  },
  {
   "cell_type": "code",
   "execution_count": null,
   "metadata": {},
   "outputs": [],
   "source": []
  }
 ],
 "metadata": {
  "kernelspec": {
   "display_name": "Python 3",
   "language": "python",
   "name": "python3"
  },
  "language_info": {
   "codemirror_mode": {
    "name": "ipython",
    "version": 3
   },
   "file_extension": ".py",
   "mimetype": "text/x-python",
   "name": "python",
   "nbconvert_exporter": "python",
   "pygments_lexer": "ipython3",
   "version": "3.7.0"
  }
 },
 "nbformat": 4,
 "nbformat_minor": 2
}
