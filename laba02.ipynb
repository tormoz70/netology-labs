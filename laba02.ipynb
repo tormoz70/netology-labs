{
 "cells": [
  {
   "cell_type": "markdown",
   "metadata": {},
   "source": [
    "# Задание 1"
   ]
  },
  {
   "cell_type": "code",
   "execution_count": 2,
   "metadata": {},
   "outputs": [],
   "source": [
    "ilist = [78, 68, 484, 3, 254, 90, 143, 78, 43, 42, 3053, 473, 5, 8593, 16, 3, 1454, 37, 96, 8547]"
   ]
  },
  {
   "cell_type": "code",
   "execution_count": 5,
   "metadata": {},
   "outputs": [
    {
     "name": "stdout",
     "output_type": "stream",
     "text": [
      "Сумма: 23549\n"
     ]
    }
   ],
   "source": [
    "summ = 0\n",
    "for x in ilist:\n",
    "    if x > 10:\n",
    "        summ += x\n",
    "print('Сумма: {}'.format(summ))"
   ]
  },
  {
   "cell_type": "markdown",
   "metadata": {},
   "source": [
    "# Задание 2"
   ]
  },
  {
   "cell_type": "code",
   "execution_count": 10,
   "metadata": {},
   "outputs": [],
   "source": [
    "slist = ['smash','seek','even','reactor','excite','injured','motor','candy','strain','emergency','safely','awake','sail','fasten']"
   ]
  },
  {
   "cell_type": "code",
   "execution_count": 11,
   "metadata": {},
   "outputs": [
    {
     "data": {
      "text/plain": [
       "['reactor', 'motor']"
      ]
     },
     "execution_count": 11,
     "metadata": {},
     "output_type": "execute_result"
    }
   ],
   "source": [
    "rlist = [s for s in slist if s[-1::].lower() == 'r']\n",
    "rlist"
   ]
  },
  {
   "cell_type": "code",
   "execution_count": null,
   "metadata": {},
   "outputs": [],
   "source": []
  },
  {
   "cell_type": "markdown",
   "metadata": {},
   "source": [
    "# Задание 3"
   ]
  },
  {
   "cell_type": "code",
   "execution_count": 27,
   "metadata": {},
   "outputs": [
    {
     "data": {
      "text/plain": [
       "'886213'"
      ]
     },
     "execution_count": 27,
     "metadata": {},
     "output_type": "execute_result"
    }
   ],
   "source": [
    "import random\n",
    "import string\n",
    "''.join(random.choices(string.digits+'3', k=6))"
   ]
  },
  {
   "cell_type": "markdown",
   "metadata": {},
   "source": [
    "# Задание 4"
   ]
  },
  {
   "cell_type": "code",
   "execution_count": 34,
   "metadata": {},
   "outputs": [
    {
     "name": "stdout",
     "output_type": "stream",
     "text": [
      "Символов :102, слов: 16\n"
     ]
    }
   ],
   "source": [
    "import re\n",
    "aline = 'Пусть дана строка произвольной длины. Выведите информацию о том,сколько в ней символов и сколько слов.'\n",
    "chars = len(aline)\n",
    "words = len(re.findall('\\w+', aline))\n",
    "print('Символов :{0}, слов: {1}'.format(chars, words))"
   ]
  },
  {
   "cell_type": "markdown",
   "metadata": {},
   "source": [
    "# Задание 5"
   ]
  },
  {
   "cell_type": "code",
   "execution_count": 112,
   "metadata": {},
   "outputs": [],
   "source": [
    "import numpy as np"
   ]
  },
  {
   "cell_type": "code",
   "execution_count": 113,
   "metadata": {},
   "outputs": [],
   "source": [
    "M = [[ 1, 3, 0],\n",
    "     [ 5, 2, 4],\n",
    "     [-1, 6, 2]]"
   ]
  },
  {
   "cell_type": "code",
   "execution_count": 116,
   "metadata": {},
   "outputs": [
    {
     "name": "stdout",
     "output_type": "stream",
     "text": [
      "[ 1  3  0  5  2  4 -1  6  2]\n"
     ]
    },
    {
     "data": {
      "text/plain": [
       "22"
      ]
     },
     "execution_count": 116,
     "metadata": {},
     "output_type": "execute_result"
    }
   ],
   "source": [
    "# вариант 1\n",
    "a = np.array(M).flatten()\n",
    "print(a)\n",
    "sum(a)"
   ]
  },
  {
   "cell_type": "code",
   "execution_count": 117,
   "metadata": {},
   "outputs": [
    {
     "name": "stdout",
     "output_type": "stream",
     "text": [
      "[1, 3, 0, 5, 2, 4, -1, 6, 2]\n"
     ]
    },
    {
     "data": {
      "text/plain": [
       "22"
      ]
     },
     "execution_count": 117,
     "metadata": {},
     "output_type": "execute_result"
    }
   ],
   "source": [
    "# вариант 2\n",
    "a = []\n",
    "for i in range(len(M)):\n",
    "    for j in range(len(M)):\n",
    "        a.append(M[i][j])\n",
    "print(a)\n",
    "sum(a)"
   ]
  },
  {
   "cell_type": "markdown",
   "metadata": {},
   "source": [
    "# Задание 6"
   ]
  },
  {
   "cell_type": "code",
   "execution_count": 110,
   "metadata": {},
   "outputs": [],
   "source": [
    "MN = [[ 1, 3, 0, 5],\n",
    "      [ 5, 2, 4, 1],\n",
    "      [-1, 6, 2, 0]]"
   ]
  },
  {
   "cell_type": "code",
   "execution_count": 111,
   "metadata": {},
   "outputs": [
    {
     "name": "stdout",
     "output_type": "stream",
     "text": [
      "Колонка с максимальной суммой: 1\n"
     ]
    }
   ],
   "source": [
    "maxj = 0\n",
    "maxs = 0\n",
    "for j in range(len(M[0])):\n",
    "    s = 0\n",
    "    for i in range(len(M)):\n",
    "        s += M[i][j]\n",
    "    if s > maxs:\n",
    "        maxj = j\n",
    "        maxs = s\n",
    "print('Колонка с максимальной суммой: {}'.format(maxj))\n"
   ]
  },
  {
   "cell_type": "markdown",
   "metadata": {},
   "source": [
    "# Задание 7"
   ]
  },
  {
   "cell_type": "code",
   "execution_count": 78,
   "metadata": {},
   "outputs": [],
   "source": [
    "students = [\n",
    "[1, 'Иванов', 25, '1'],\n",
    "[2, 'Петров', 27, '2'],\n",
    "[3, 'Сидоров', 23, '2'],\n",
    "[4, 'Песков', 21, '1']\n",
    "]\n"
   ]
  },
  {
   "cell_type": "code",
   "execution_count": 81,
   "metadata": {},
   "outputs": [
    {
     "data": {
      "text/plain": [
       "{1: ['Иванов', 25, '1'],\n",
       " 2: ['Петров', 27, '2'],\n",
       " 3: ['Сидоров', 23, '2'],\n",
       " 4: ['Песков', 21, '1']}"
      ]
     },
     "execution_count": 81,
     "metadata": {},
     "output_type": "execute_result"
    }
   ],
   "source": [
    "studentsDict = {}\n",
    "for i in range(len(students)):\n",
    "    studentsDict[students[i][0]] = students[i][1:]\n",
    "studentsDict"
   ]
  },
  {
   "cell_type": "code",
   "execution_count": 82,
   "metadata": {},
   "outputs": [
    {
     "name": "stdout",
     "output_type": "stream",
     "text": [
      "1\n",
      "2\n",
      "3\n",
      "4\n"
     ]
    }
   ],
   "source": [
    "for s in studentsDict:\n",
    "    print(s)"
   ]
  },
  {
   "cell_type": "code",
   "execution_count": 104,
   "metadata": {},
   "outputs": [],
   "source": [
    "def updateStudent(aStudentsDict, fio, age=None, group=None):\n",
    "    foundKey = None\n",
    "    for key in aStudentsDict:\n",
    "        if(fio.lower() in aStudentsDict[key][0].lower()):\n",
    "            foundKey = key\n",
    "    if(foundKey != None):\n",
    "        if age != None:\n",
    "            aStudentsDict[foundKey][1] = age\n",
    "        if group != None:\n",
    "            aStudentsDict[foundKey][2] = str(group)\n",
    "    return aStudentsDict[foundKey]"
   ]
  },
  {
   "cell_type": "code",
   "execution_count": 105,
   "metadata": {},
   "outputs": [
    {
     "data": {
      "text/plain": [
       "['Петров', 45, '7']"
      ]
     },
     "execution_count": 105,
     "metadata": {},
     "output_type": "execute_result"
    }
   ],
   "source": [
    "updateStudent(studentsDict, 'петр') # ничего не изменяется"
   ]
  },
  {
   "cell_type": "code",
   "execution_count": 106,
   "metadata": {},
   "outputs": [
    {
     "data": {
      "text/plain": [
       "['Сидоров', 32, '2']"
      ]
     },
     "execution_count": 106,
     "metadata": {},
     "output_type": "execute_result"
    }
   ],
   "source": [
    "updateStudent(studentsDict, 'сидо', 32) # изменяется возраст"
   ]
  },
  {
   "cell_type": "code",
   "execution_count": 107,
   "metadata": {},
   "outputs": [
    {
     "data": {
      "text/plain": [
       "['Иванов', 25, '24']"
      ]
     },
     "execution_count": 107,
     "metadata": {},
     "output_type": "execute_result"
    }
   ],
   "source": [
    "updateStudent(studentsDict, 'иван', None, 24) # изменяется группа"
   ]
  },
  {
   "cell_type": "code",
   "execution_count": 108,
   "metadata": {},
   "outputs": [
    {
     "data": {
      "text/plain": [
       "['Петров', 45, '7']"
      ]
     },
     "execution_count": 108,
     "metadata": {},
     "output_type": "execute_result"
    }
   ],
   "source": [
    "updateStudent(studentsDict, 'петр', 45, 7) # изменяется возраст и группа"
   ]
  },
  {
   "cell_type": "code",
   "execution_count": null,
   "metadata": {},
   "outputs": [],
   "source": []
  }
 ],
 "metadata": {
  "kernelspec": {
   "display_name": "Python 3",
   "language": "python",
   "name": "python3"
  },
  "language_info": {
   "codemirror_mode": {
    "name": "ipython",
    "version": 3
   },
   "file_extension": ".py",
   "mimetype": "text/x-python",
   "name": "python",
   "nbconvert_exporter": "python",
   "pygments_lexer": "ipython3",
   "version": "3.7.0"
  }
 },
 "nbformat": 4,
 "nbformat_minor": 2
}
